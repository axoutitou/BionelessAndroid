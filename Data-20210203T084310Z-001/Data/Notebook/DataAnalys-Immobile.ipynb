{
 "cells": [
  {
   "cell_type": "code",
   "execution_count": 1,
   "metadata": {},
   "outputs": [],
   "source": [
    "import pandas as pd"
   ]
  },
  {
   "cell_type": "code",
   "execution_count": 2,
   "metadata": {},
   "outputs": [
    {
     "data": {
      "text/plain": [
       "(1048, 8)"
      ]
     },
     "execution_count": 2,
     "metadata": {},
     "output_type": "execute_result"
    }
   ],
   "source": [
    "filename = \"MouvementData-V1-Immobile.csv\"\n",
    "data = pd.read_csv(filename, delimiter=\",\")\n",
    "data.shape"
   ]
  },
  {
   "cell_type": "code",
   "execution_count": 3,
   "metadata": {},
   "outputs": [
    {
     "data": {
      "text/html": [
       "<div>\n",
       "<style scoped>\n",
       "    .dataframe tbody tr th:only-of-type {\n",
       "        vertical-align: middle;\n",
       "    }\n",
       "\n",
       "    .dataframe tbody tr th {\n",
       "        vertical-align: top;\n",
       "    }\n",
       "\n",
       "    .dataframe thead th {\n",
       "        text-align: right;\n",
       "    }\n",
       "</style>\n",
       "<table border=\"1\" class=\"dataframe\">\n",
       "  <thead>\n",
       "    <tr style=\"text-align: right;\">\n",
       "      <th></th>\n",
       "      <th>dX-acc</th>\n",
       "      <th>dY-acc</th>\n",
       "      <th>dZ-acc</th>\n",
       "      <th>dX-gyr</th>\n",
       "      <th>dY-gyr</th>\n",
       "      <th>dZ-gyr</th>\n",
       "      <th>time</th>\n",
       "      <th>activityType</th>\n",
       "    </tr>\n",
       "  </thead>\n",
       "  <tbody>\n",
       "    <tr>\n",
       "      <th>0</th>\n",
       "      <td>0.000000</td>\n",
       "      <td>0.000000</td>\n",
       "      <td>0.000000</td>\n",
       "      <td>-0.008084</td>\n",
       "      <td>0.006940</td>\n",
       "      <td>0.001503</td>\n",
       "      <td>13.0</td>\n",
       "      <td>Immobile</td>\n",
       "    </tr>\n",
       "    <tr>\n",
       "      <th>1</th>\n",
       "      <td>0.000000</td>\n",
       "      <td>0.000000</td>\n",
       "      <td>0.000000</td>\n",
       "      <td>-0.007473</td>\n",
       "      <td>0.006940</td>\n",
       "      <td>-0.000330</td>\n",
       "      <td>153.0</td>\n",
       "      <td>Immobile</td>\n",
       "    </tr>\n",
       "    <tr>\n",
       "      <th>2</th>\n",
       "      <td>0.169993</td>\n",
       "      <td>-0.292102</td>\n",
       "      <td>9.687236</td>\n",
       "      <td>-0.007473</td>\n",
       "      <td>0.006940</td>\n",
       "      <td>-0.000330</td>\n",
       "      <td>334.0</td>\n",
       "      <td>Immobile</td>\n",
       "    </tr>\n",
       "    <tr>\n",
       "      <th>3</th>\n",
       "      <td>0.169993</td>\n",
       "      <td>-0.292102</td>\n",
       "      <td>9.687236</td>\n",
       "      <td>-0.004419</td>\n",
       "      <td>0.002053</td>\n",
       "      <td>-0.002162</td>\n",
       "      <td>334.0</td>\n",
       "      <td>Immobile</td>\n",
       "    </tr>\n",
       "    <tr>\n",
       "      <th>4</th>\n",
       "      <td>0.169993</td>\n",
       "      <td>-0.292102</td>\n",
       "      <td>9.687236</td>\n",
       "      <td>-0.006252</td>\n",
       "      <td>0.003886</td>\n",
       "      <td>-0.000941</td>\n",
       "      <td>513.0</td>\n",
       "      <td>Immobile</td>\n",
       "    </tr>\n",
       "  </tbody>\n",
       "</table>\n",
       "</div>"
      ],
      "text/plain": [
       "     dX-acc    dY-acc    dZ-acc    dX-gyr    dY-gyr    dZ-gyr   time  \\\n",
       "0  0.000000  0.000000  0.000000 -0.008084  0.006940  0.001503   13.0   \n",
       "1  0.000000  0.000000  0.000000 -0.007473  0.006940 -0.000330  153.0   \n",
       "2  0.169993 -0.292102  9.687236 -0.007473  0.006940 -0.000330  334.0   \n",
       "3  0.169993 -0.292102  9.687236 -0.004419  0.002053 -0.002162  334.0   \n",
       "4  0.169993 -0.292102  9.687236 -0.006252  0.003886 -0.000941  513.0   \n",
       "\n",
       "  activityType  \n",
       "0     Immobile  \n",
       "1     Immobile  \n",
       "2     Immobile  \n",
       "3     Immobile  \n",
       "4     Immobile  "
      ]
     },
     "execution_count": 3,
     "metadata": {},
     "output_type": "execute_result"
    }
   ],
   "source": [
    "data.head()"
   ]
  },
  {
   "cell_type": "code",
   "execution_count": 4,
   "metadata": {},
   "outputs": [
    {
     "data": {
      "text/html": [
       "<div>\n",
       "<style scoped>\n",
       "    .dataframe tbody tr th:only-of-type {\n",
       "        vertical-align: middle;\n",
       "    }\n",
       "\n",
       "    .dataframe tbody tr th {\n",
       "        vertical-align: top;\n",
       "    }\n",
       "\n",
       "    .dataframe thead th {\n",
       "        text-align: right;\n",
       "    }\n",
       "</style>\n",
       "<table border=\"1\" class=\"dataframe\">\n",
       "  <thead>\n",
       "    <tr style=\"text-align: right;\">\n",
       "      <th></th>\n",
       "      <th>dX-acc</th>\n",
       "      <th>dY-acc</th>\n",
       "      <th>dZ-acc</th>\n",
       "      <th>dX-gyr</th>\n",
       "      <th>dY-gyr</th>\n",
       "      <th>dZ-gyr</th>\n",
       "      <th>time</th>\n",
       "      <th>activityType</th>\n",
       "    </tr>\n",
       "  </thead>\n",
       "  <tbody>\n",
       "    <tr>\n",
       "      <th>1043</th>\n",
       "      <td>0.155628</td>\n",
       "      <td>-0.296890</td>\n",
       "      <td>9.699207</td>\n",
       "      <td>-0.002454</td>\n",
       "      <td>0.004678</td>\n",
       "      <td>0.000145</td>\n",
       "      <td>19140.0</td>\n",
       "      <td>Immobile</td>\n",
       "    </tr>\n",
       "    <tr>\n",
       "      <th>1044</th>\n",
       "      <td>0.131685</td>\n",
       "      <td>-0.277736</td>\n",
       "      <td>9.672871</td>\n",
       "      <td>-0.002454</td>\n",
       "      <td>0.004678</td>\n",
       "      <td>0.000145</td>\n",
       "      <td>19141.0</td>\n",
       "      <td>Immobile</td>\n",
       "    </tr>\n",
       "    <tr>\n",
       "      <th>1045</th>\n",
       "      <td>0.174782</td>\n",
       "      <td>-0.306467</td>\n",
       "      <td>9.689630</td>\n",
       "      <td>-0.002454</td>\n",
       "      <td>0.004678</td>\n",
       "      <td>0.000145</td>\n",
       "      <td>19142.0</td>\n",
       "      <td>Immobile</td>\n",
       "    </tr>\n",
       "    <tr>\n",
       "      <th>1046</th>\n",
       "      <td>0.179571</td>\n",
       "      <td>-0.296890</td>\n",
       "      <td>9.653716</td>\n",
       "      <td>-0.002454</td>\n",
       "      <td>0.004678</td>\n",
       "      <td>0.000145</td>\n",
       "      <td>19144.0</td>\n",
       "      <td>Immobile</td>\n",
       "    </tr>\n",
       "    <tr>\n",
       "      <th>1047</th>\n",
       "      <td>0.162811</td>\n",
       "      <td>-0.313650</td>\n",
       "      <td>9.706390</td>\n",
       "      <td>-0.002454</td>\n",
       "      <td>0.004678</td>\n",
       "      <td>0.000145</td>\n",
       "      <td>19145.0</td>\n",
       "      <td>Immobile</td>\n",
       "    </tr>\n",
       "  </tbody>\n",
       "</table>\n",
       "</div>"
      ],
      "text/plain": [
       "        dX-acc    dY-acc    dZ-acc    dX-gyr    dY-gyr    dZ-gyr     time  \\\n",
       "1043  0.155628 -0.296890  9.699207 -0.002454  0.004678  0.000145  19140.0   \n",
       "1044  0.131685 -0.277736  9.672871 -0.002454  0.004678  0.000145  19141.0   \n",
       "1045  0.174782 -0.306467  9.689630 -0.002454  0.004678  0.000145  19142.0   \n",
       "1046  0.179571 -0.296890  9.653716 -0.002454  0.004678  0.000145  19144.0   \n",
       "1047  0.162811 -0.313650  9.706390 -0.002454  0.004678  0.000145  19145.0   \n",
       "\n",
       "     activityType  \n",
       "1043     Immobile  \n",
       "1044     Immobile  \n",
       "1045     Immobile  \n",
       "1046     Immobile  \n",
       "1047     Immobile  "
      ]
     },
     "execution_count": 4,
     "metadata": {},
     "output_type": "execute_result"
    }
   ],
   "source": [
    "data.tail()"
   ]
  },
  {
   "cell_type": "code",
   "execution_count": 5,
   "metadata": {},
   "outputs": [
    {
     "data": {
      "text/html": [
       "<div>\n",
       "<style scoped>\n",
       "    .dataframe tbody tr th:only-of-type {\n",
       "        vertical-align: middle;\n",
       "    }\n",
       "\n",
       "    .dataframe tbody tr th {\n",
       "        vertical-align: top;\n",
       "    }\n",
       "\n",
       "    .dataframe thead th {\n",
       "        text-align: right;\n",
       "    }\n",
       "</style>\n",
       "<table border=\"1\" class=\"dataframe\">\n",
       "  <thead>\n",
       "    <tr style=\"text-align: right;\">\n",
       "      <th></th>\n",
       "      <th>dX-acc</th>\n",
       "      <th>dY-acc</th>\n",
       "      <th>dZ-acc</th>\n",
       "      <th>dX-gyr</th>\n",
       "      <th>dY-gyr</th>\n",
       "      <th>dZ-gyr</th>\n",
       "      <th>time</th>\n",
       "      <th>activityType</th>\n",
       "    </tr>\n",
       "  </thead>\n",
       "  <tbody>\n",
       "    <tr>\n",
       "      <th>1043</th>\n",
       "      <td>0.155628</td>\n",
       "      <td>-0.296890</td>\n",
       "      <td>9.699207</td>\n",
       "      <td>-0.002454</td>\n",
       "      <td>0.004678</td>\n",
       "      <td>0.000145</td>\n",
       "      <td>19140.0</td>\n",
       "      <td>Immobile</td>\n",
       "    </tr>\n",
       "    <tr>\n",
       "      <th>1044</th>\n",
       "      <td>0.131685</td>\n",
       "      <td>-0.277736</td>\n",
       "      <td>9.672871</td>\n",
       "      <td>-0.002454</td>\n",
       "      <td>0.004678</td>\n",
       "      <td>0.000145</td>\n",
       "      <td>19141.0</td>\n",
       "      <td>Immobile</td>\n",
       "    </tr>\n",
       "    <tr>\n",
       "      <th>1045</th>\n",
       "      <td>0.174782</td>\n",
       "      <td>-0.306467</td>\n",
       "      <td>9.689630</td>\n",
       "      <td>-0.002454</td>\n",
       "      <td>0.004678</td>\n",
       "      <td>0.000145</td>\n",
       "      <td>19142.0</td>\n",
       "      <td>Immobile</td>\n",
       "    </tr>\n",
       "    <tr>\n",
       "      <th>1046</th>\n",
       "      <td>0.179571</td>\n",
       "      <td>-0.296890</td>\n",
       "      <td>9.653716</td>\n",
       "      <td>-0.002454</td>\n",
       "      <td>0.004678</td>\n",
       "      <td>0.000145</td>\n",
       "      <td>19144.0</td>\n",
       "      <td>Immobile</td>\n",
       "    </tr>\n",
       "    <tr>\n",
       "      <th>1047</th>\n",
       "      <td>0.162811</td>\n",
       "      <td>-0.313650</td>\n",
       "      <td>9.706390</td>\n",
       "      <td>-0.002454</td>\n",
       "      <td>0.004678</td>\n",
       "      <td>0.000145</td>\n",
       "      <td>19145.0</td>\n",
       "      <td>Immobile</td>\n",
       "    </tr>\n",
       "  </tbody>\n",
       "</table>\n",
       "</div>"
      ],
      "text/plain": [
       "        dX-acc    dY-acc    dZ-acc    dX-gyr    dY-gyr    dZ-gyr     time  \\\n",
       "1043  0.155628 -0.296890  9.699207 -0.002454  0.004678  0.000145  19140.0   \n",
       "1044  0.131685 -0.277736  9.672871 -0.002454  0.004678  0.000145  19141.0   \n",
       "1045  0.174782 -0.306467  9.689630 -0.002454  0.004678  0.000145  19142.0   \n",
       "1046  0.179571 -0.296890  9.653716 -0.002454  0.004678  0.000145  19144.0   \n",
       "1047  0.162811 -0.313650  9.706390 -0.002454  0.004678  0.000145  19145.0   \n",
       "\n",
       "     activityType  \n",
       "1043     Immobile  \n",
       "1044     Immobile  \n",
       "1045     Immobile  \n",
       "1046     Immobile  \n",
       "1047     Immobile  "
      ]
     },
     "execution_count": 5,
     "metadata": {},
     "output_type": "execute_result"
    }
   ],
   "source": [
    "data.tail()"
   ]
  },
  {
   "cell_type": "code",
   "execution_count": 6,
   "metadata": {},
   "outputs": [],
   "source": [
    "time_inf = 2000\n",
    "time_sup = 8000\n",
    "data = data.loc[(data['time']>time_inf) & (data['time']<time_sup)]"
   ]
  },
  {
   "cell_type": "code",
   "execution_count": 7,
   "metadata": {},
   "outputs": [
    {
     "data": {
      "text/html": [
       "<div>\n",
       "<style scoped>\n",
       "    .dataframe tbody tr th:only-of-type {\n",
       "        vertical-align: middle;\n",
       "    }\n",
       "\n",
       "    .dataframe tbody tr th {\n",
       "        vertical-align: top;\n",
       "    }\n",
       "\n",
       "    .dataframe thead th {\n",
       "        text-align: right;\n",
       "    }\n",
       "</style>\n",
       "<table border=\"1\" class=\"dataframe\">\n",
       "  <thead>\n",
       "    <tr style=\"text-align: right;\">\n",
       "      <th></th>\n",
       "      <th>dX-acc</th>\n",
       "      <th>dY-acc</th>\n",
       "      <th>dZ-acc</th>\n",
       "      <th>dX-gyr</th>\n",
       "      <th>dY-gyr</th>\n",
       "      <th>dZ-gyr</th>\n",
       "      <th>time</th>\n",
       "      <th>activityType</th>\n",
       "    </tr>\n",
       "  </thead>\n",
       "  <tbody>\n",
       "    <tr>\n",
       "      <th>93</th>\n",
       "      <td>0.203513</td>\n",
       "      <td>-0.299284</td>\n",
       "      <td>9.663293</td>\n",
       "      <td>-0.006252</td>\n",
       "      <td>0.003275</td>\n",
       "      <td>-0.00033</td>\n",
       "      <td>2136.0</td>\n",
       "      <td>Immobile</td>\n",
       "    </tr>\n",
       "    <tr>\n",
       "      <th>94</th>\n",
       "      <td>0.189148</td>\n",
       "      <td>-0.244216</td>\n",
       "      <td>9.672871</td>\n",
       "      <td>-0.006252</td>\n",
       "      <td>0.003275</td>\n",
       "      <td>-0.00033</td>\n",
       "      <td>2138.0</td>\n",
       "      <td>Immobile</td>\n",
       "    </tr>\n",
       "    <tr>\n",
       "      <th>95</th>\n",
       "      <td>0.208302</td>\n",
       "      <td>-0.284919</td>\n",
       "      <td>9.694419</td>\n",
       "      <td>-0.006252</td>\n",
       "      <td>0.003275</td>\n",
       "      <td>-0.00033</td>\n",
       "      <td>2139.0</td>\n",
       "      <td>Immobile</td>\n",
       "    </tr>\n",
       "    <tr>\n",
       "      <th>96</th>\n",
       "      <td>0.189148</td>\n",
       "      <td>-0.275342</td>\n",
       "      <td>9.680053</td>\n",
       "      <td>-0.006252</td>\n",
       "      <td>0.003275</td>\n",
       "      <td>-0.00033</td>\n",
       "      <td>2140.0</td>\n",
       "      <td>Immobile</td>\n",
       "    </tr>\n",
       "    <tr>\n",
       "      <th>97</th>\n",
       "      <td>0.186753</td>\n",
       "      <td>-0.272947</td>\n",
       "      <td>9.672871</td>\n",
       "      <td>-0.006252</td>\n",
       "      <td>0.003275</td>\n",
       "      <td>-0.00033</td>\n",
       "      <td>2142.0</td>\n",
       "      <td>Immobile</td>\n",
       "    </tr>\n",
       "  </tbody>\n",
       "</table>\n",
       "</div>"
      ],
      "text/plain": [
       "      dX-acc    dY-acc    dZ-acc    dX-gyr    dY-gyr   dZ-gyr    time  \\\n",
       "93  0.203513 -0.299284  9.663293 -0.006252  0.003275 -0.00033  2136.0   \n",
       "94  0.189148 -0.244216  9.672871 -0.006252  0.003275 -0.00033  2138.0   \n",
       "95  0.208302 -0.284919  9.694419 -0.006252  0.003275 -0.00033  2139.0   \n",
       "96  0.189148 -0.275342  9.680053 -0.006252  0.003275 -0.00033  2140.0   \n",
       "97  0.186753 -0.272947  9.672871 -0.006252  0.003275 -0.00033  2142.0   \n",
       "\n",
       "   activityType  \n",
       "93     Immobile  \n",
       "94     Immobile  \n",
       "95     Immobile  \n",
       "96     Immobile  \n",
       "97     Immobile  "
      ]
     },
     "execution_count": 7,
     "metadata": {},
     "output_type": "execute_result"
    }
   ],
   "source": [
    "data.head()"
   ]
  },
  {
   "cell_type": "code",
   "execution_count": 8,
   "metadata": {},
   "outputs": [
    {
     "data": {
      "text/html": [
       "<div>\n",
       "<style scoped>\n",
       "    .dataframe tbody tr th:only-of-type {\n",
       "        vertical-align: middle;\n",
       "    }\n",
       "\n",
       "    .dataframe tbody tr th {\n",
       "        vertical-align: top;\n",
       "    }\n",
       "\n",
       "    .dataframe thead th {\n",
       "        text-align: right;\n",
       "    }\n",
       "</style>\n",
       "<table border=\"1\" class=\"dataframe\">\n",
       "  <thead>\n",
       "    <tr style=\"text-align: right;\">\n",
       "      <th></th>\n",
       "      <th>dX-acc</th>\n",
       "      <th>dY-acc</th>\n",
       "      <th>dZ-acc</th>\n",
       "      <th>dX-gyr</th>\n",
       "      <th>dY-gyr</th>\n",
       "      <th>dZ-gyr</th>\n",
       "      <th>time</th>\n",
       "      <th>activityType</th>\n",
       "    </tr>\n",
       "  </thead>\n",
       "  <tbody>\n",
       "    <tr>\n",
       "      <th>421</th>\n",
       "      <td>-0.323227</td>\n",
       "      <td>-0.184359</td>\n",
       "      <td>9.545974</td>\n",
       "      <td>-0.01406</td>\n",
       "      <td>0.064543</td>\n",
       "      <td>-0.016349</td>\n",
       "      <td>7941.0</td>\n",
       "      <td>Immobile</td>\n",
       "    </tr>\n",
       "    <tr>\n",
       "      <th>422</th>\n",
       "      <td>-1.264177</td>\n",
       "      <td>0.165205</td>\n",
       "      <td>9.620196</td>\n",
       "      <td>-0.01406</td>\n",
       "      <td>0.064543</td>\n",
       "      <td>-0.016349</td>\n",
       "      <td>7942.0</td>\n",
       "      <td>Immobile</td>\n",
       "    </tr>\n",
       "    <tr>\n",
       "      <th>423</th>\n",
       "      <td>-1.120521</td>\n",
       "      <td>0.191542</td>\n",
       "      <td>9.680053</td>\n",
       "      <td>-0.01406</td>\n",
       "      <td>0.064543</td>\n",
       "      <td>-0.016349</td>\n",
       "      <td>7943.0</td>\n",
       "      <td>Immobile</td>\n",
       "    </tr>\n",
       "    <tr>\n",
       "      <th>424</th>\n",
       "      <td>-0.414210</td>\n",
       "      <td>0.165205</td>\n",
       "      <td>9.615408</td>\n",
       "      <td>-0.01406</td>\n",
       "      <td>0.064543</td>\n",
       "      <td>-0.016349</td>\n",
       "      <td>7945.0</td>\n",
       "      <td>Immobile</td>\n",
       "    </tr>\n",
       "    <tr>\n",
       "      <th>425</th>\n",
       "      <td>0.325621</td>\n",
       "      <td>-0.615329</td>\n",
       "      <td>9.833286</td>\n",
       "      <td>-0.01406</td>\n",
       "      <td>0.064543</td>\n",
       "      <td>-0.016349</td>\n",
       "      <td>7946.0</td>\n",
       "      <td>Immobile</td>\n",
       "    </tr>\n",
       "  </tbody>\n",
       "</table>\n",
       "</div>"
      ],
      "text/plain": [
       "       dX-acc    dY-acc    dZ-acc   dX-gyr    dY-gyr    dZ-gyr    time  \\\n",
       "421 -0.323227 -0.184359  9.545974 -0.01406  0.064543 -0.016349  7941.0   \n",
       "422 -1.264177  0.165205  9.620196 -0.01406  0.064543 -0.016349  7942.0   \n",
       "423 -1.120521  0.191542  9.680053 -0.01406  0.064543 -0.016349  7943.0   \n",
       "424 -0.414210  0.165205  9.615408 -0.01406  0.064543 -0.016349  7945.0   \n",
       "425  0.325621 -0.615329  9.833286 -0.01406  0.064543 -0.016349  7946.0   \n",
       "\n",
       "    activityType  \n",
       "421     Immobile  \n",
       "422     Immobile  \n",
       "423     Immobile  \n",
       "424     Immobile  \n",
       "425     Immobile  "
      ]
     },
     "execution_count": 8,
     "metadata": {},
     "output_type": "execute_result"
    }
   ],
   "source": [
    "data.tail()"
   ]
  },
  {
   "cell_type": "markdown",
   "metadata": {},
   "source": [
    "## Accelerometer visualisation\n"
   ]
  },
  {
   "cell_type": "code",
   "execution_count": 9,
   "metadata": {},
   "outputs": [
    {
     "data": {
      "text/plain": [
       "[<matplotlib.lines.Line2D at 0x260bdc37ec8>]"
      ]
     },
     "execution_count": 9,
     "metadata": {},
     "output_type": "execute_result"
    },
    {
     "data": {
      "image/png": "[encoded data removed]",
      "text/plain": [
       "<Figure size 1440x936 with 3 Axes>"
      ]
     },
     "metadata": {
      "needs_background": "light"
     },
     "output_type": "display_data"
    }
   ],
   "source": [
    "import matplotlib.pyplot as plt\n",
    "fig, axs = plt.subplots(3)\n",
    "fig.set_size_inches(20, 13)\n",
    "axs[0].plot(data[\"time\"], data[\"dX-acc\"])\n",
    "axs[1].plot(data[\"time\"], data[\"dY-acc\"])\n",
    "axs[2].plot(data[\"time\"], data[\"dZ-acc\"])"
   ]
  },
  {
   "cell_type": "markdown",
   "metadata": {},
   "source": [
    "## Gyroscope visualisation"
   ]
  },
  {
   "cell_type": "code",
   "execution_count": 10,
   "metadata": {},
   "outputs": [
    {
     "data": {
      "text/plain": [
       "[<matplotlib.lines.Line2D at 0x260bdd70808>]"
      ]
     },
     "execution_count": 10,
     "metadata": {},
     "output_type": "execute_result"
    },
    {
     "data": {
      "image/png": "[encoded data removed]",
      "text/plain": [
       "<Figure size 1440x936 with 3 Axes>"
      ]
     },
     "metadata": {
      "needs_background": "light"
     },
     "output_type": "display_data"
    }
   ],
   "source": [
    "import matplotlib.pyplot as plt\n",
    "fig, axs = plt.subplots(3)\n",
    "fig.set_size_inches(20, 13)\n",
    "axs[0].plot(data[\"time\"], data[\"dX-gyr\"])\n",
    "axs[1].plot(data[\"time\"], data[\"dY-gyr\"])\n",
    "axs[2].plot(data[\"time\"], data[\"dZ-gyr\"])"
   ]
  },
  {
   "cell_type": "code",
   "execution_count": null,
   "metadata": {},
   "outputs": [],
   "source": []
  }
 ],
 "metadata": {
  "kernelspec": {
   "display_name": "Python 3",
   "language": "python",
   "name": "python3"
  },
  "language_info": {
   "codemirror_mode": {
    "name": "ipython",
    "version": 3
   },
   "file_extension": ".py",
   "mimetype": "text/x-python",
   "name": "python",
   "nbconvert_exporter": "python",
   "pygments_lexer": "ipython3",
   "version": "3.7.6"
  }
 },
 "nbformat": 4,
 "nbformat_minor": 4
}
